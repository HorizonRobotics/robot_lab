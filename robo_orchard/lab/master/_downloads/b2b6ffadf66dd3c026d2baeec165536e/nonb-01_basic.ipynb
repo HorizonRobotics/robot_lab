{
  "cells": [
    {
      "cell_type": "markdown",
      "metadata": {},
      "source": [
        "# Creating, Saving, and Loading Models\n"
      ]
    },
    {
      "cell_type": "markdown",
      "metadata": {},
      "source": [
        "## Core concepts\nBefore we begin, let's understand the two key classes:\n\n1. :py:class:`~robo_orchard_lab.models.mixin.TorchModuleCfg`: This is a specialized configuration class designed to define all the necessary parameters for a PyTorch ``nn.Module``,\nsuch as layer counts, dimensions, activation functions, etc. Your model will be instantiated from it.\n\n2. :py:class:`~robo_orchard_lab.models.mixin.ModelMixin`: This is a mixin class. Your custom model class should inherit from it.\nIt provides the essential ``save_model`` and ``load_model`` methods.\n\n\n"
      ]
    },
    {
      "cell_type": "markdown",
      "metadata": {},
      "source": [
        "## Step 1: Define Your Model and Configuration\nFirst, we need to define the model's architecture and its corresponding configuration.\n\nLet's create a simple fully-connected network called ``SimpleNet``.\n\n1.  Create the config class ``SimpleNetCfg``: This class must inherit from :py:class:`~robo_orchard_lab.models.mixin.TorchModuleCfg` and should define the parameters your model needs (e.g., `input_size`, `hidden_size`, `output_size`).\n\n2.  Create the model class ``SimpleNet``: This class must inherit from :py:class:`~robo_orchard_lab.models.mixin.ModelMixin`. In its ``__init__`` method, it accepts a config object ``cfg`` and calls ``super().__init__(cfg)`` to complete the setup.\n\n\n"
      ]
    },
    {
      "cell_type": "code",
      "execution_count": null,
      "metadata": {
        "collapsed": false
      },
      "outputs": [],
      "source": [
        "import torch.nn as nn\n\nfrom robo_orchard_lab.models.mixin import (\n    ClassType_co,\n    ModelMixin,\n    TorchModuleCfg,\n)\n\n\n# 1. Define the model class, inheriting from ModelMixin\nclass SimpleNet(ModelMixin):\n    def __init__(self, cfg: \"SimpleNetCfg\"):\n        # It's crucial to call super().__init__ and pass the cfg\n        super().__init__(cfg)\n\n        self.fc1 = nn.Linear(cfg.input_size, cfg.hidden_size)\n        self.relu = nn.ReLU()\n        self.fc2 = nn.Linear(cfg.hidden_size, cfg.output_size)\n\n    def forward(self, x):\n        x = self.fc1(x)\n        x = self.relu(x)\n        x = self.fc2(x)\n        return x\n\n\n# 2. Define the configuration class for the model\nclass SimpleNetCfg(TorchModuleCfg[SimpleNet]):\n    class_type: ClassType_co[SimpleNet] = SimpleNet\n    input_size: int = 784\n    hidden_size: int = 128\n    output_size: int = 10"
      ]
    },
    {
      "cell_type": "markdown",
      "metadata": {},
      "source": [
        "## Step 2: Instantiate and Save the Model\nThe :py:class:`~robo_orchard_lab.models.mixin.ModelMixin` provides the ``save_model`` method,\nwhich automatically performs two actions:\n\n1.  Saves the model's configuration ``cfg`` to ``model.config.json``.\n2.  Saves the model's weights ``state_dict`` to ``model.safetensors``.\n\n\n"
      ]
    },
    {
      "cell_type": "code",
      "execution_count": null,
      "metadata": {
        "collapsed": false
      },
      "outputs": [],
      "source": [
        "import os\nimport shutil\n\nconfig = SimpleNetCfg(hidden_size=256)"
      ]
    },
    {
      "cell_type": "markdown",
      "metadata": {},
      "source": [
        "2. Instantiate the model by calling the config object. This leverages the functionality of ClassInitFromConfigMixin\n\n"
      ]
    },
    {
      "cell_type": "code",
      "execution_count": null,
      "metadata": {
        "collapsed": false
      },
      "outputs": [],
      "source": [
        "model = config()\nprint(\"Model created:\", model)"
      ]
    },
    {
      "cell_type": "markdown",
      "metadata": {},
      "source": [
        "3. Call the save_model method\n\n"
      ]
    },
    {
      "cell_type": "code",
      "execution_count": null,
      "metadata": {
        "collapsed": false
      },
      "outputs": [],
      "source": [
        "output_dir = \"./checkpoint\"\n\nif os.path.exists(output_dir):\n    shutil.rmtree(output_dir)\n\nmodel.save_model(output_dir)\n\nimport subprocess\n\nprint(f\"Model has been saved to the `{output_dir}` directory.\")\nprint(subprocess.check_output([\"tree\", output_dir]).decode())"
      ]
    },
    {
      "cell_type": "markdown",
      "metadata": {},
      "source": [
        "## Step 3: Load the Model\nLoading the model is just as easy. The ``load_model`` method automatically reads ``model.config.json`` to build the model architecture and then loads the weights from ``model.safetensors``.\n\n\n"
      ]
    },
    {
      "cell_type": "code",
      "execution_count": null,
      "metadata": {
        "collapsed": false
      },
      "outputs": [],
      "source": [
        "loaded_model = ModelMixin.load_model(output_dir)\nprint(\"Model loaded:\", loaded_model)"
      ]
    },
    {
      "cell_type": "markdown",
      "metadata": {},
      "source": [
        "## Integrating with Hugging Face Accelerator\n:py:class:`~robo_orchard_lab.models.mixin.ModelMixin` provides a pre-built hook, ``accelerator_save_state_pre_hook``,\nfor seamless integration with the \ud83e\udd17 Accelerate training library.\n\n\n"
      ]
    },
    {
      "cell_type": "code",
      "execution_count": null,
      "metadata": {
        "collapsed": false
      },
      "outputs": [],
      "source": [
        "from accelerate import Accelerator\n\naccelerator = Accelerator()\n\naccelerator.register_save_state_pre_hook(\n    SimpleNet.accelerator_save_state_pre_hook\n)"
      ]
    }
  ],
  "metadata": {
    "kernelspec": {
      "display_name": "Python 3",
      "language": "python",
      "name": "python3"
    },
    "language_info": {
      "codemirror_mode": {
        "name": "ipython",
        "version": 3
      },
      "file_extension": ".py",
      "mimetype": "text/x-python",
      "name": "python",
      "nbconvert_exporter": "python",
      "pygments_lexer": "ipython3",
      "version": "3.10.12"
    }
  },
  "nbformat": 4,
  "nbformat_minor": 0
}